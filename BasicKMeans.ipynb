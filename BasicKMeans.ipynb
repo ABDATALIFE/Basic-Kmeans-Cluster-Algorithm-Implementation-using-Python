{
 "cells": [
  {
   "cell_type": "markdown",
   "id": "4b28ec35",
   "metadata": {},
   "source": [
    "# Implementing K-means-clustering algorithm`"
   ]
  },
  {
   "cell_type": "code",
   "execution_count": 1,
   "id": "7bc00e95",
   "metadata": {},
   "outputs": [],
   "source": [
    "# Importing Libraries\n",
    "import pandas as pd\n",
    "import numpy as np\n",
    "import matplotlib.pyplot as plt\n",
    "from sklearn.cluster import KMeans"
   ]
  },
  {
   "cell_type": "code",
   "execution_count": 3,
   "id": "0511a138",
   "metadata": {},
   "outputs": [
    {
     "data": {
      "image/png": "[encoded data removed]",
      "text/plain": [
       "<Figure size 432x288 with 1 Axes>"
      ]
     },
     "metadata": {
      "needs_background": "light"
     },
     "output_type": "display_data"
    }
   ],
   "source": [
    "# Generating Data - Two means\n",
    "mean1 = [np.random.randint(50),np.random.randint(50)]\n",
    "mean2 = [np.random.randint(50),np.random.randint(50)]\n",
    "\n",
    "# Make Diagonal Covariance\n",
    "cov = [[100,0],[0,100]]\n",
    "\n",
    "x1,y1 = np.random.multivariate_normal(mean1,cov,100).T\n",
    "x2,y2 = np.random.multivariate_normal(mean2,cov,100).T\n",
    "\n",
    "\n",
    "x = np.append(x1,x2)\n",
    "y = np.append(y1,y2)\n",
    "\n",
    "plt.plot(x,y,'x')\n",
    "plt.axis('equal')\n",
    "plt.show()\n"
   ]
  },
  {
   "cell_type": "code",
   "execution_count": 13,
   "id": "332ff0c0",
   "metadata": {},
   "outputs": [],
   "source": [
    "dataset = np.array(list(zip(x,y)))"
   ]
  },
  {
   "cell_type": "code",
   "execution_count": 14,
   "id": "8e6cc976",
   "metadata": {},
   "outputs": [
    {
     "data": {
      "text/plain": [
       "array([[25.05458649, 18.44229836],\n",
       "       [ 8.71374727, 28.50247645],\n",
       "       [35.37727237, 38.02426721],\n",
       "       [41.94713217, 31.59099063],\n",
       "       [28.12648422, 26.97141398],\n",
       "       [36.23653185, 21.0855387 ],\n",
       "       [23.00636832, 42.78457906],\n",
       "       [40.02857352, 21.26484649],\n",
       "       [31.32191366, 39.31236516],\n",
       "       [25.53456761, 28.37214425],\n",
       "       [27.06996663, 52.52488906],\n",
       "       [37.61877945, 40.4393969 ],\n",
       "       [40.28550998, 29.77023474],\n",
       "       [36.1700738 , 46.28308953],\n",
       "       [37.39329574, 16.47750341],\n",
       "       [33.0451201 , 41.30523469],\n",
       "       [45.5091486 , 33.20664667],\n",
       "       [21.89212596, 31.72279906],\n",
       "       [33.01471415, 41.18385546],\n",
       "       [41.29741139, 29.43933939],\n",
       "       [23.79858119, 17.76134868],\n",
       "       [33.50380844, 14.25170744],\n",
       "       [15.59927329, 19.12119834],\n",
       "       [26.3657983 , 52.21687729],\n",
       "       [44.45266581, 36.82378443],\n",
       "       [37.60755094, 37.07833711],\n",
       "       [23.17183458, 31.56607646],\n",
       "       [43.45717962, 34.38755451],\n",
       "       [37.60580202, 34.29291882],\n",
       "       [37.23819884, 50.35866357],\n",
       "       [33.2944592 , 34.64014049],\n",
       "       [24.53835646, 30.284173  ],\n",
       "       [42.03055633, 31.86810554],\n",
       "       [50.70369337, 16.9995355 ],\n",
       "       [42.5027916 , 16.81815791],\n",
       "       [22.72644837, 49.7809322 ],\n",
       "       [53.56495664, 36.4412451 ],\n",
       "       [26.7070871 , 49.35654192],\n",
       "       [30.83385428, 18.26972822],\n",
       "       [38.38889813, 43.48840818],\n",
       "       [21.18270571, 34.4816915 ],\n",
       "       [24.25911249, 31.81967626],\n",
       "       [16.5347147 , 44.83609398],\n",
       "       [24.78967869, 25.21309644],\n",
       "       [24.75861447, 20.68918411],\n",
       "       [38.57797948, 41.98124595],\n",
       "       [25.01810664, 33.05764206],\n",
       "       [24.87519847, 38.99070252],\n",
       "       [21.89182328, 30.65168848],\n",
       "       [50.8698472 , 35.62006608],\n",
       "       [29.35859124, 53.40585987],\n",
       "       [32.74040995, 32.52676252],\n",
       "       [54.23199159, 36.52049975],\n",
       "       [42.12311742, 43.08880371],\n",
       "       [19.24185428, 39.8850195 ],\n",
       "       [29.64564208, 27.6958783 ],\n",
       "       [18.16270359, 37.57477851],\n",
       "       [38.84028117, 50.63106891],\n",
       "       [27.9710372 , 30.66354135],\n",
       "       [41.6421366 , 42.92396582],\n",
       "       [31.99295147, 33.76942814],\n",
       "       [23.26599549, 28.73212731],\n",
       "       [20.41437178, 25.51294423],\n",
       "       [35.30529226, 22.40161351],\n",
       "       [46.73637061, 37.83867736],\n",
       "       [34.54462576, 45.14749452],\n",
       "       [24.83712917, 22.21302069],\n",
       "       [39.64767515, 41.66452732],\n",
       "       [23.98495114, 49.72279833],\n",
       "       [25.31677173, 27.48826201],\n",
       "       [24.73145285, 29.80682394],\n",
       "       [35.82822996, 22.84391671],\n",
       "       [25.86110582, 44.62041867],\n",
       "       [23.73943128, 41.89136875],\n",
       "       [22.35313577, 48.20496498],\n",
       "       [30.40716143, 36.51450245],\n",
       "       [32.70077912, 20.71869358],\n",
       "       [47.72446347, 46.55855096],\n",
       "       [31.06603369, 45.09508473],\n",
       "       [37.10587195, 37.53493595],\n",
       "       [24.68626886, 34.01902026],\n",
       "       [30.2334246 , 28.05047409],\n",
       "       [26.34858575, 32.05599125],\n",
       "       [34.17514098, 51.1761219 ],\n",
       "       [50.38448572, 46.56091388],\n",
       "       [13.49031637, 36.89969163],\n",
       "       [29.50357831, 18.8096962 ],\n",
       "       [25.57672769, 45.31128455],\n",
       "       [37.01967552, 30.22350025],\n",
       "       [23.62522674, 41.80547241],\n",
       "       [38.88361783, 27.64167636],\n",
       "       [41.95414944, 37.94906557],\n",
       "       [34.50965736, 53.90799566],\n",
       "       [57.58082002, 37.52638778],\n",
       "       [36.86341387, 32.53666102],\n",
       "       [18.29956989, 35.38243891],\n",
       "       [23.59914405, 46.35966388],\n",
       "       [27.8192002 , 45.73416742],\n",
       "       [27.13052171, 51.59455476],\n",
       "       [35.83817057, 38.48812114],\n",
       "       [ 4.45680615, 48.65262834],\n",
       "       [33.38709299, 60.11435929],\n",
       "       [41.40143253, 44.0866491 ],\n",
       "       [ 8.8271991 , 47.74940698],\n",
       "       [37.47743241, 53.09666037],\n",
       "       [42.91907185, 47.84285542],\n",
       "       [29.34955371, 52.57966995],\n",
       "       [39.94240631, 36.60119958],\n",
       "       [19.38041013, 75.21700444],\n",
       "       [ 9.7115942 , 58.13607251],\n",
       "       [28.69760264, 38.59594254],\n",
       "       [46.58207645, 40.85945015],\n",
       "       [31.48700361, 27.05716557],\n",
       "       [23.27790879, 55.46823474],\n",
       "       [37.79569628, 49.11145995],\n",
       "       [35.3480483 , 59.69179503],\n",
       "       [23.3547345 , 47.96083062],\n",
       "       [16.12772661, 48.43801403],\n",
       "       [26.69714583, 57.27115335],\n",
       "       [28.81645566, 54.62601572],\n",
       "       [38.09505055, 74.97447323],\n",
       "       [34.23344937, 44.80278997],\n",
       "       [31.32763335, 43.97087135],\n",
       "       [28.62803691, 33.73557624],\n",
       "       [17.4442315 , 46.55102562],\n",
       "       [19.96987569, 38.37715603],\n",
       "       [15.19688527, 32.33977974],\n",
       "       [ 7.99639755, 73.07452975],\n",
       "       [36.15699475, 31.33263596],\n",
       "       [28.17526523, 48.21923596],\n",
       "       [25.61816358, 43.7059948 ],\n",
       "       [26.57644458, 63.14593332],\n",
       "       [31.17905849, 43.75708036],\n",
       "       [25.03429627, 67.3056981 ],\n",
       "       [30.59204653, 59.24031573],\n",
       "       [37.73028203, 44.48523219],\n",
       "       [29.37981807, 32.94165654],\n",
       "       [23.03491877, 42.19732748],\n",
       "       [26.26739613, 49.29366048],\n",
       "       [42.25153813, 46.84069655],\n",
       "       [42.67964198, 48.73688823],\n",
       "       [14.10937885, 45.15204975],\n",
       "       [16.11337245, 41.14622848],\n",
       "       [ 8.22230127, 57.3214212 ],\n",
       "       [21.79297233, 23.79817198],\n",
       "       [27.31686813, 57.8180268 ],\n",
       "       [26.44694331, 59.7867642 ],\n",
       "       [43.34364497, 50.26271305],\n",
       "       [17.88992458, 43.3319723 ],\n",
       "       [22.45566151, 50.21639412],\n",
       "       [32.33554487, 44.24223815],\n",
       "       [25.99426275, 65.12723441],\n",
       "       [33.48682597, 46.38946109],\n",
       "       [29.09320619, 36.6440563 ],\n",
       "       [13.73623094, 46.21583266],\n",
       "       [24.04956765, 40.84004491],\n",
       "       [29.90518797, 42.07324296],\n",
       "       [41.66015661, 55.16696761],\n",
       "       [22.29971039, 36.78761137],\n",
       "       [18.82009084, 44.2809945 ],\n",
       "       [29.93107763, 69.19456951],\n",
       "       [25.3272929 , 50.19740316],\n",
       "       [ 8.52848951, 47.20795773],\n",
       "       [24.58637575, 60.42319085],\n",
       "       [37.52637634, 52.30671401],\n",
       "       [22.6047663 , 62.47295266],\n",
       "       [46.45166266, 50.79901381],\n",
       "       [27.92357827, 51.57881109],\n",
       "       [37.34486435, 47.99278562],\n",
       "       [42.13879066, 51.20995358],\n",
       "       [19.29637431, 30.17546817],\n",
       "       [31.17953486, 60.64385283],\n",
       "       [24.1921003 , 66.2144856 ],\n",
       "       [ 9.26517191, 58.66534095],\n",
       "       [42.90499808, 36.17296343],\n",
       "       [41.64927646, 33.92637613],\n",
       "       [15.03269671, 43.02201449],\n",
       "       [23.32619639, 56.3303881 ],\n",
       "       [28.45309532, 51.97137931],\n",
       "       [31.81217617, 55.09220224],\n",
       "       [38.03013966, 48.89683678],\n",
       "       [36.18496576, 40.89341804],\n",
       "       [32.10977705, 44.17759388],\n",
       "       [ 4.93129543, 54.8173982 ],\n",
       "       [36.76573755, 41.21560845],\n",
       "       [ 6.84609755, 32.78311226],\n",
       "       [-0.091973  , 39.35907363],\n",
       "       [35.67624526, 63.41647545],\n",
       "       [27.59016457, 57.4482251 ],\n",
       "       [27.22900216, 38.28428429],\n",
       "       [ 4.25612786, 58.01680302],\n",
       "       [27.11410425, 30.20528527],\n",
       "       [17.3438717 , 45.73933243],\n",
       "       [29.56229428, 40.67676922],\n",
       "       [31.69000305, 42.66055348],\n",
       "       [12.11920498, 34.18995048],\n",
       "       [24.24383693, 57.58797516],\n",
       "       [30.93573739, 60.53612191],\n",
       "       [28.33025314, 47.86968785],\n",
       "       [19.11867385, 48.14334285]])"
      ]
     },
     "execution_count": 14,
     "metadata": {},
     "output_type": "execute_result"
    }
   ],
   "source": [
    "dataset"
   ]
  },
  {
   "cell_type": "code",
   "execution_count": 15,
   "id": "68111ae7",
   "metadata": {},
   "outputs": [],
   "source": [
    "# Making Kmeans model\n",
    "kmeans = KMeans(n_clusters=2)"
   ]
  },
  {
   "cell_type": "code",
   "execution_count": 16,
   "id": "68d5d574",
   "metadata": {},
   "outputs": [
    {
     "data": {
      "text/plain": [
       "KMeans(n_clusters=2)"
      ]
     },
     "execution_count": 16,
     "metadata": {},
     "output_type": "execute_result"
    }
   ],
   "source": [
    "# Fitting the model on the dataset\n",
    "kmeans.fit(dataset)"
   ]
  },
  {
   "cell_type": "code",
   "execution_count": 17,
   "id": "edeb9fa0",
   "metadata": {},
   "outputs": [
    {
     "name": "stdout",
     "output_type": "stream",
     "text": [
      "[0 0 0 0 0 0 1 0 0 0 1 0 0 1 0 0 0 0 0 0 0 0 0 1 0 0 0 0 0 1 0 0 0 0 0 1 0\n",
      " 1 0 0 0 0 1 0 0 0 0 0 0 0 1 0 0 0 1 0 0 1 0 0 0 0 0 0 0 1 0 0 1 0 0 0 1 1\n",
      " 1 0 0 0 1 0 0 0 0 1 0 1 0 1 0 1 0 0 1 0 0 0 1 1 1 0 1 1 0 1 1 1 1 0 1 1 0\n",
      " 0 0 1 1 1 1 1 1 1 1 1 1 0 1 0 0 1 0 1 1 1 1 1 1 0 0 1 1 1 1 1 1 1 0 1 1 1\n",
      " 1 1 1 1 1 0 1 1 1 1 0 1 1 1 1 1 1 1 1 1 1 1 0 1 1 1 0 0 1 1 1 1 1 0 1 1 0\n",
      " 0 1 1 1 0 1 0 1 0 1 0 1 1 1 1]\n",
      "[[32.64476683 32.36071196]\n",
      " [26.1172413  51.3333802 ]]\n"
     ]
    }
   ],
   "source": [
    "centroids = kmeans.cluster_centers_\n",
    "labels = kmeans.labels_\n",
    "print(labels)\n",
    "print(centroids)"
   ]
  },
  {
   "cell_type": "code",
   "execution_count": 20,
   "id": "fd6ab623",
   "metadata": {},
   "outputs": [
    {
     "data": {
      "image/png": "[encoded data removed]",
      "text/plain": [
       "<Figure size 432x288 with 1 Axes>"
      ]
     },
     "metadata": {
      "needs_background": "light"
     },
     "output_type": "display_data"
    }
   ],
   "source": [
    "# Data Visualization\n",
    "\n",
    "colors = ['g.','r.']\n",
    "\n",
    "for i in range(len(dataset)):\n",
    "    plt.plot(dataset[i][0],dataset[i][1],colors[labels[i]],markersize=10)\n",
    "    \n",
    "plt.scatter(centroids[:,0],centroids[:,1],marker='X',s=150,zorder=10)\n",
    "\n",
    "plt.show()"
   ]
  },
  {
   "cell_type": "code",
   "execution_count": 21,
   "id": "80efa84c",
   "metadata": {},
   "outputs": [
    {
     "data": {
      "text/plain": [
       "array([32.64476683, 26.1172413 ])"
      ]
     },
     "execution_count": 21,
     "metadata": {},
     "output_type": "execute_result"
    }
   ],
   "source": [
    "centroids[:,0]"
   ]
  },
  {
   "cell_type": "code",
   "execution_count": 22,
   "id": "78583439",
   "metadata": {},
   "outputs": [
    {
     "data": {
      "text/plain": [
       "[31, 37]"
      ]
     },
     "execution_count": 22,
     "metadata": {},
     "output_type": "execute_result"
    }
   ],
   "source": [
    "mean1"
   ]
  },
  {
   "cell_type": "code",
   "execution_count": 23,
   "id": "a9488d3a",
   "metadata": {},
   "outputs": [
    {
     "data": {
      "text/plain": [
       "array([32.36071196, 51.3333802 ])"
      ]
     },
     "execution_count": 23,
     "metadata": {},
     "output_type": "execute_result"
    }
   ],
   "source": [
    "centroids[:,1]"
   ]
  },
  {
   "cell_type": "code",
   "execution_count": 24,
   "id": "788dadc1",
   "metadata": {},
   "outputs": [
    {
     "data": {
      "text/plain": [
       "[26, 49]"
      ]
     },
     "execution_count": 24,
     "metadata": {},
     "output_type": "execute_result"
    }
   ],
   "source": [
    "mean2"
   ]
  },
  {
   "cell_type": "code",
   "execution_count": null,
   "id": "bc64c254",
   "metadata": {},
   "outputs": [],
   "source": []
  }
 ],
 "metadata": {
  "kernelspec": {
   "display_name": "Python 3 (ipykernel)",
   "language": "python",
   "name": "python3"
  },
  "language_info": {
   "codemirror_mode": {
    "name": "ipython",
    "version": 3
   },
   "file_extension": ".py",
   "mimetype": "text/x-python",
   "name": "python",
   "nbconvert_exporter": "python",
   "pygments_lexer": "ipython3",
   "version": "3.9.12"
  }
 },
 "nbformat": 4,
 "nbformat_minor": 5
}
